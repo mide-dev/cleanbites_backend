{
 "cells": [
  {
   "cell_type": "code",
   "execution_count": 2,
   "metadata": {},
   "outputs": [],
   "source": [
    "import math\n",
    "import pandas as pd\n",
    "from fuzzywuzzy import fuzz"
   ]
  },
  {
   "cell_type": "code",
   "execution_count": 3,
   "metadata": {},
   "outputs": [],
   "source": [
    "restaurant_data = pd.read_csv(\"./vibes.csv\")\n",
    "hygiene_data = pd.read_csv(\"./place_hygiene.csv\")"
   ]
  },
  {
   "cell_type": "code",
   "execution_count": 4,
   "metadata": {},
   "outputs": [],
   "source": [
    "def find_best_match(restaurant_row):\n",
    "    # Filter hygiene data by matching postcode\n",
    "    matching_hygiene = hygiene_data[\n",
    "        hygiene_data[\"PostCode\"] == restaurant_row[\"post_code\"]\n",
    "    ]\n",
    "\n",
    "    best_match = None\n",
    "    highest_match = 0\n",
    "\n",
    "    for _, hygiene_row in matching_hygiene.iterrows():\n",
    "        similarity = fuzz.partial_ratio(\n",
    "            restaurant_row[\"business_name\"], hygiene_row[\"BusinessName\"]\n",
    "        )\n",
    "        if similarity > highest_match:\n",
    "            highest_match = similarity\n",
    "            best_match = hygiene_row\n",
    "    if highest_match < 51:\n",
    "        best_match = None\n",
    "    # print(f\"match for - {restaurant_row['business_name']}: {highest_match}\")\n",
    "    return best_match"
   ]
  },
  {
   "cell_type": "code",
   "execution_count": 5,
   "metadata": {},
   "outputs": [],
   "source": [
    "for idx, row in restaurant_data.iterrows():\n",
    "    try:\n",
    "        if math.isnan(row[\"RatingValue\"]):\n",
    "            best_match = find_best_match(row)\n",
    "            if best_match is not None:\n",
    "                restaurant_data.at[idx, \"RatingValue\"] = best_match[\"RatingValue\"]\n",
    "                restaurant_data.at[idx, \"compare_name\"] = best_match[\"BusinessName\"]\n",
    "    except TypeError:\n",
    "        continue"
   ]
  },
  {
   "cell_type": "code",
   "execution_count": 6,
   "metadata": {},
   "outputs": [],
   "source": [
    "restaurant_data.to_csv(\"vibes_2.csv\", index=False)"
   ]
  }
 ],
 "metadata": {
  "kernelspec": {
   "display_name": "Python 3",
   "language": "python",
   "name": "python3"
  },
  "language_info": {
   "codemirror_mode": {
    "name": "ipython",
    "version": 3
   },
   "file_extension": ".py",
   "mimetype": "text/x-python",
   "name": "python",
   "nbconvert_exporter": "python",
   "pygments_lexer": "ipython3",
   "version": "3.11.6"
  },
  "orig_nbformat": 4
 },
 "nbformat": 4,
 "nbformat_minor": 2
}
